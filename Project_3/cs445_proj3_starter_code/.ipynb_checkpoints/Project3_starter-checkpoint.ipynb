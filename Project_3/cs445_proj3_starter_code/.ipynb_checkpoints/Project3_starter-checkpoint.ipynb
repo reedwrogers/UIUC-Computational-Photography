{
 "cells": [
  {
   "cell_type": "markdown",
   "metadata": {
    "colab_type": "text",
    "id": "ElVnEzv62Ave"
   },
   "source": [
    "## CS 445: Computational Photography\n",
    "\n",
    "## Programming Project #3: Gradient Domain Fusion"
   ]
  },
  {
   "cell_type": "code",
   "execution_count": 13,
   "metadata": {
    "colab": {},
    "colab_type": "code",
    "id": "zdP7nYtL_3An"
   },
   "outputs": [],
   "source": [
    "# from google.colab import drive\n",
    "# drive.mount('/content/drive')"
   ]
  },
  {
   "cell_type": "markdown",
   "metadata": {
    "colab_type": "text",
    "id": "dXpYII_6_gC_"
   },
   "source": [
    "## Part 1 Toy Problem (20 pts)"
   ]
  },
  {
   "cell_type": "code",
   "execution_count": 39,
   "metadata": {},
   "outputs": [
    {
     "name": "stdout",
     "output_type": "stream",
     "text": [
      "cp: './utils.py' and './utils.py' are the same file\n",
      "cp: './samples' and './samples' are the same file\n"
     ]
    }
   ],
   "source": [
    "import cv2\n",
    "import numpy as np\n",
    "import matplotlib.pyplot as plt\n",
    "%matplotlib inline\n",
    "import os\n",
    "from random import random\n",
    "import time\n",
    "import scipy\n",
    "import scipy.sparse.linalg\n",
    "\n",
    "# modify to where you store your project data including utils.py\n",
    "datadir = \"./\" \n",
    "\n",
    "utilfn = datadir + \"utils.py\"\n",
    "!cp \"$utilfn\" .\n",
    "samplesfn = datadir + \"samples\"\n",
    "!cp -r \"$samplesfn\" .\n",
    "import utils\n"
   ]
  },
  {
   "cell_type": "code",
   "execution_count": 78,
   "metadata": {
    "colab": {},
    "colab_type": "code",
    "id": "y8FE0YVZ_gC_"
   },
   "outputs": [],
   "source": [
    "def toy_reconstruct(img):\n",
    "    \"\"\"\n",
    "    The implementation for gradient domain processing is not complicated, but it is easy to make a mistake, so let's start with a toy example. Reconstruct this image from its gradient values, plus one pixel intensity. \n",
    "    Denote the intensity of the source image at (x, y) as s(x,y) and the value to solve for as v(x,y). For each pixel, then, we have two objectives:\n",
    "    1. minimize (v(x+1,y)-v(x,y) - (s(x+1,y)-s(x,y)))^2\n",
    "    2. minimize (v(x,y+1)-v(x,y) - (s(x,y+1)-s(x,y)))^2\n",
    "    Note that these could be solved while adding any constant value to v, so we will add one more objective:\n",
    "    3. minimize (v(1,1)-s(1,1))^2\n",
    "\n",
    "    The first step is to write the objective function as a set of least squares constraints in the standard matrix form: (Av-b)^2. Here, \"A\" is a sparse matrix, \"v\" are the variables to be solved, and \"b\" is a known vector. \n",
    "    Especially for blending with irregular masks, it is helpful to keep a matrix im2var that maps each pixel to a variable number, such as:\n",
    "    \n",
    "    im_h, im_w = im.shape\n",
    "    im2var = np.arange(im_h * im_w).reshape(im_h, im_w)\n",
    "    \n",
    "    Then, you can write objective 1 above as:\n",
    "    e = e + 1;\n",
    "    A[e][im2var[y][x+1]] = 1\n",
    "    A[e][im2var[y][x]] = -1\n",
    "    b[e] = im[y][x+1] - im[y][x]\n",
    "    Here, \"e\" is used as an equation counter. Note that the y-coordinate is the first index. As another example, objective 3 above can be written as:\n",
    "    e = e + 1;\n",
    "    A[e][im2var[0][0]] = 1\n",
    "    b[e] = s[0][0]\n",
    "    \n",
    "    To solve for v, use v = scipy.sparse.linalg.lsqr(A, b); Then, copy each solved value to the appropriate pixel in the output image.\n",
    "    \n",
    "    :param toy_img: numpy.ndarray\n",
    "    \"\"\"\n",
    "\n",
    "    # alright, so what do we want to do, in simple terms?\n",
    "\n",
    "    # We need to figure out A and b, then use them to solve for v\n",
    "\n",
    "    # A is going to be our gradient matrix: capturing the gradients from the source pixels in relation to their neighbors in a specific way\n",
    "    # b is going to be what we want our gradient to actually equal\n",
    "    # that leaves v, which are the pixel values that are applied to our gradient matrix in order to return b. Av = b\n",
    "\n",
    "    # we need a mapping vector. This will be in the shape of our image but just count from 0 to total # of pixels\n",
    "    im_h, im_w = img.shape\n",
    "    im2var = np.arange(im_h * im_w).reshape(im_h, im_w)\n",
    "\n",
    "    num_equations = ((im_h-1) * im_w)*2 # in gradient domain processing, each pixel will require 2 equations. Thus the # of equations needed = # of pixels * 2\n",
    "    total_vars = im_h * im_w            # Number of variables in v. These are the pixel values, so we need a variable for every pixel we are solving for\n",
    "    \n",
    "    A = sp.lil_matrix((num_equations, total_vars)) # create zero matrices for A and b\n",
    "    b = np.zeros(num_equations)\n",
    "\n",
    "    # now, it is time to fill A and b\n",
    "\n",
    "    # objective 1: horizontal gradients\n",
    "    \n",
    "    e = 0  # Initialize equation index\n",
    "    \n",
    "    for y in range(im_h):                     # Iterate over the rows\n",
    "        for x in range(im_w - 1):             # Iterate over columns, excluding the last column as it has no gradient\n",
    "            A[e, im2var[y, x + 1]] = 1        # Positive contribution from the pixel to the right\n",
    "            A[e, im2var[y, x]] = -1           # Negative contribution from the pixel to the left\n",
    "            b[e] = img[y, x + 1] - img[y, x]  # Fill in the target difference for the gradient\n",
    "            e += 1                            # Increment the equation number for each gradient equation\n",
    "            \n",
    "    for y in range(im_h - 1):                 # Iterate over rows, excluding the last row\n",
    "        for x in range(im_w):                 # Iterate over all columns\n",
    "            A[e, im2var[y + 1, x]] = 1        # Positive contribution from the pixel below\n",
    "            A[e, im2var[y, x]] = -1           # Negative contribution from the pixel above\n",
    "            b[e] = img[y + 1, x] - img[y, x]  # Fill in the target difference for the gradient\n",
    "            e += 1                            # Increment the equation number for each gradient equation\n",
    "    \n",
    "    A[e][im2var[0][0]] = 1  # Set the coefficient for v[0][0] to 1\n",
    "    b[e] = s[0][0]          # Set the target value from the source image\n",
    "    e += 1                  # Move to the next equation\n",
    "    \n",
    "    # solve for v\n",
    "    v = scipy.sparse.linalg.lsqr(A, b)[0]  # Retrieve the solution vector\n",
    "\n",
    "    return v.reshape(im_h, im_w)           # Reshape the flattened array back to the original image dimensions"
   ]
  },
  {
   "cell_type": "code",
   "execution_count": 80,
   "metadata": {},
   "outputs": [
    {
     "data": {
      "image/png": "[encoded data removed]",
      "text/plain": [
       "<Figure size 640x480 with 1 Axes>"
      ]
     },
     "metadata": {},
     "output_type": "display_data"
    },
    {
     "data": {
      "image/png": "[encoded data removed]",
      "text/plain": [
       "<Figure size 640x480 with 1 Axes>"
      ]
     },
     "metadata": {},
     "output_type": "display_data"
    },
    {
     "name": "stdout",
     "output_type": "stream",
     "text": [
      "Max error is:  0.42705325760887347\n"
     ]
    }
   ],
   "source": [
    "toy_img = cv2.cvtColor(cv2.imread('samples/toy_problem.png'), cv2.COLOR_BGR2GRAY).astype('double') / 255.0\n",
    "plt.imshow(toy_img, cmap=\"gray\")\n",
    "plt.show()\n",
    "\n",
    "im_out = toy_reconstruct(toy_img)\n",
    "plt.imshow(im_out, cmap=\"gray\")\n",
    "plt.show()\n",
    "print(\"Max error is: \", np.sqrt(((im_out - toy_img)**2).max()))"
   ]
  },
  {
   "cell_type": "markdown",
   "metadata": {
    "colab_type": "text",
    "id": "UbSv6Go2_gDF"
   },
   "source": [
    "## Preparation"
   ]
  },
  {
   "cell_type": "code",
   "execution_count": null,
   "metadata": {
    "colab": {},
    "colab_type": "code",
    "id": "QDKoD4vn_gDG"
   },
   "outputs": [],
   "source": [
    "background_img = cv2.cvtColor(cv2.imread('samples/im2.JPG'), cv2.COLOR_BGR2RGB).astype('double') / 255.0 \n",
    "plt.figure()\n",
    "plt.imshow(background_img)\n",
    "plt.show()\n",
    "object_img = cv2.cvtColor(cv2.imread('samples/penguin-chick.jpeg'), cv2.COLOR_BGR2RGB).astype('double') / 255.0 \n",
    "plt.imshow(object_img)\n",
    "plt.show()\n",
    "\n",
    "use_interface = False  # set to true if you want to use the interface to choose points (might not work in Colab)\n",
    "if not use_interface:\n",
    "  xs = (65, 359, 359, 65)\n",
    "  ys = (24, 24, 457, 457)\n",
    "  object_mask = utils.get_mask(ys, xs, object_img)\n",
    "  bottom_center = (500, 2500) # (x,y)\n",
    "\n",
    "  object_img, object_mask = utils.crop_object_img(object_img, object_mask)\n",
    "  bg_ul = utils.upper_left_background_rc(object_mask, bottom_center)\n",
    "  plt.imshow(utils.get_combined_img(background_img, object_img, object_mask, bg_ul))\n",
    "\n"
   ]
  },
  {
   "cell_type": "code",
   "execution_count": null,
   "metadata": {
    "colab": {},
    "colab_type": "code",
    "id": "C1kVMEwm_gDK"
   },
   "outputs": [],
   "source": [
    "if use_interface:\n",
    "  import matplotlib.pyplot as plt\n",
    "  %matplotlib notebook\n",
    "  mask_coords = specify_mask(object_img)"
   ]
  },
  {
   "cell_type": "code",
   "execution_count": null,
   "metadata": {
    "colab": {},
    "colab_type": "code",
    "id": "6y8QLIsb_gDN"
   },
   "outputs": [],
   "source": [
    "if use_interface:\n",
    "  xs = mask_coords[0]\n",
    "  ys = mask_coords[1]\n",
    "  %matplotlib inline\n",
    "  import matplotlib.pyplot as plt\n",
    "  plt.figure()\n",
    "  object_mask = get_mask(ys, xs, object_img)"
   ]
  },
  {
   "cell_type": "code",
   "execution_count": null,
   "metadata": {
    "colab": {},
    "colab_type": "code",
    "id": "EhzUyEbo_gDR"
   },
   "outputs": [],
   "source": [
    "if use_interface:\n",
    "  %matplotlib notebook\n",
    "  import matplotlib.pyplot as plt\n",
    "  bottom_center = specify_bottom_center(background_img)\n",
    "  %matplotlib inline\n",
    "  import matplotlib.pyplot as plt\n",
    "\n",
    "  object_img, object_mask = utils.crop_object_img(object_img, object_mask)\n",
    "  bg_ul = utils.upper_left_background_rc(object_mask, bottom_center)\n",
    "  plt.imshow(utils.get_combined_img(background_img, object_img, object_mask, bg_ul))\n",
    "\n"
   ]
  },
  {
   "cell_type": "markdown",
   "metadata": {
    "colab_type": "text",
    "id": "yJQzZk0H_gDX"
   },
   "source": [
    "## Part 2 Poisson Blending (50 pts)"
   ]
  },
  {
   "cell_type": "code",
   "execution_count": null,
   "metadata": {
    "colab": {},
    "colab_type": "code",
    "id": "pEndGgUf_gDX"
   },
   "outputs": [],
   "source": [
    "def poisson_blend(object_img, object_mask, bg_img, bg_ul):\n",
    "    \"\"\"\n",
    "    Returns a Poisson blended image with masked object_img over the bg_img at position specified by bg_ul.\n",
    "    Can be implemented to operate on a single channel or multiple channels\n",
    "    :param object_img: the image containing the foreground object\n",
    "    :param object_mask: the mask of the foreground object in object_img\n",
    "    :param background_img: the background image \n",
    "    :param bg_ul: position (row, col) in background image corresponding to (0,0) of object_img \n",
    "    \"\"\"\n",
    "    #TO DO \n",
    "\n"
   ]
  },
  {
   "cell_type": "code",
   "execution_count": null,
   "metadata": {
    "colab": {},
    "colab_type": "code",
    "id": "BgUuBmx7_gDb"
   },
   "outputs": [],
   "source": [
    "im_blend = np.zeros(background_img.shape)\n",
    "for b in np.arange(3):\n",
    "  im_blend[:,:,b] = poisson_blend(object_img[:,:,b], object_mask, background_img[:,:,b].copy(), bg_ul)\n",
    "\n",
    "plt.figure(figsize=(15,15))\n",
    "plt.imshow(im_blend)"
   ]
  },
  {
   "cell_type": "markdown",
   "metadata": {
    "colab_type": "text",
    "id": "WZEEYHqz_gDg"
   },
   "source": [
    "## Part 3 Mixed Gradients (20 pts)"
   ]
  },
  {
   "cell_type": "code",
   "execution_count": null,
   "metadata": {
    "colab": {},
    "colab_type": "code",
    "id": "0gt3vbHp_gDh"
   },
   "outputs": [],
   "source": [
    "def mixed_blend(object_img, object_mask, bg_img, bg_ul):\n",
    "    \"\"\"\n",
    "    Returns a mixed gradient blended image with masked object_img over the bg_img at position specified by bg_ul.\n",
    "    Can be implemented to operate on a single channel or multiple channels\n",
    "    :param object_img: the image containing the foreground object\n",
    "    :param object_mask: the mask of the foreground object in object_img\n",
    "    :param background_img: the background image \n",
    "    :param bg_ul: position (row, col) in background image corresponding to (0,0) of object_img \n",
    "    \"\"\"\n",
    "    #TO DO \n",
    "\n"
   ]
  },
  {
   "cell_type": "code",
   "execution_count": null,
   "metadata": {
    "colab": {},
    "colab_type": "code",
    "id": "S_oLT76r_gDl"
   },
   "outputs": [],
   "source": [
    "im_mix = np.zeros(background_img.shape)\n",
    "for b in np.arange(3):\n",
    "  im_mix[:,:,b] = mixed_blend(object_img[:,:,b], object_mask, background_img[:,:,b].copy(), bg_ul)\n",
    "\n",
    "plt.figure(figsize=(15,15))\n",
    "plt.imshow(im_mix)"
   ]
  },
  {
   "cell_type": "markdown",
   "metadata": {
    "colab_type": "text",
    "id": "0NuTLiFF_gDq"
   },
   "source": [
    "# Bells & Whistles (Extra Points)"
   ]
  },
  {
   "cell_type": "markdown",
   "metadata": {
    "colab_type": "text",
    "id": "QL6p0D8l_gDq"
   },
   "source": [
    "## Color2Gray (20 pts)"
   ]
  },
  {
   "cell_type": "code",
   "execution_count": null,
   "metadata": {
    "colab": {},
    "colab_type": "code",
    "id": "lTxi1xtN_gDr"
   },
   "outputs": [],
   "source": [
    "def color2gray(img):\n",
    "    pass"
   ]
  },
  {
   "cell_type": "markdown",
   "metadata": {
    "colab_type": "text",
    "id": "r8rlgMeK_gDv"
   },
   "source": [
    "## Laplacian pyramid blending (20 pts)"
   ]
  },
  {
   "cell_type": "code",
   "execution_count": null,
   "metadata": {
    "colab": {},
    "colab_type": "code",
    "id": "6H7pXy_I_gDv"
   },
   "outputs": [],
   "source": [
    "def laplacian_blend(object_img, object_mask, bg_img, bg_ul):\n",
    "  # feel free to change input parameters\n",
    "    pass"
   ]
  },
  {
   "cell_type": "markdown",
   "metadata": {
    "colab_type": "text",
    "id": "hKesD6tx_gD1"
   },
   "source": [
    "## More gradient domain processing (up to 20 pts)"
   ]
  },
  {
   "cell_type": "code",
   "execution_count": null,
   "metadata": {
    "colab": {},
    "colab_type": "code",
    "id": "qtc7-V8S_gD1"
   },
   "outputs": [],
   "source": []
  }
 ],
 "metadata": {
  "colab": {
   "name": "Project3_starter.ipynb",
   "provenance": []
  },
  "kernelspec": {
   "display_name": "Python 3 (ipykernel)",
   "language": "python",
   "name": "python3"
  },
  "language_info": {
   "codemirror_mode": {
    "name": "ipython",
    "version": 3
   },
   "file_extension": ".py",
   "mimetype": "text/x-python",
   "name": "python",
   "nbconvert_exporter": "python",
   "pygments_lexer": "ipython3",
   "version": "3.12.3"
  }
 },
 "nbformat": 4,
 "nbformat_minor": 4
}
